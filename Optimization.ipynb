{
 "cells": [
  {
   "cell_type": "code",
   "execution_count": 176,
   "id": "0d3334d1",
   "metadata": {},
   "outputs": [
    {
     "data": {
      "text/plain": [
       "<contextlib.ExitStack at 0x2091021c370>"
      ]
     },
     "execution_count": 176,
     "metadata": {},
     "output_type": "execute_result"
    }
   ],
   "source": [
    "#import statements\n",
    "import numpy as np\n",
    "import math\n",
    "import matplotlib.pyplot as plt\n",
    "\n",
    "plt.ion()"
   ]
  },
  {
   "cell_type": "code",
   "execution_count": 36,
   "id": "a99d9837",
   "metadata": {},
   "outputs": [],
   "source": [
    "#Auxiliary functions\n",
    "\n",
    "def P(x):\n",
    "    return (math.log10(math.log10(8.122 * x[3] + 0.8)) - 10.04) / (-3.55)\n",
    "\n",
    "\n",
    "def T(x):\n",
    "    return 2 * (10**P(x) - 560)\n",
    "\n",
    "\n",
    "def E(x):\n",
    "    return 143.308 * T(x) * x[0]\n",
    "\n",
    "\n",
    "def h(x):\n",
    "    return ((1500 * math.pi / 60)**2) * (2 * (10**-6) * math.pi * x[3] / E(x)) * (((x[2]**4) / 4) - ((x[1]**4) / 4))\n",
    "\n",
    "\n",
    "def P0(x):\n",
    "    return (6 * (10**-6) * x[3] * x[0] * math.log(x[2] / x[1])) / (math.pi * h(x)**3)\n",
    "\n",
    "\n",
    "def W(x):\n",
    "    return (math.pi * P0(x) / 2) * ((x[2]**2 - x[1]**2) / math.log(x[2] / x[1]))"
   ]
  },
  {
   "cell_type": "code",
   "execution_count": 58,
   "id": "d49b1e84",
   "metadata": {},
   "outputs": [],
   "source": [
    "#Constraint Functions\n",
    "\n",
    "def g1(x):\n",
    "    return 101000 - W(x)\n",
    "\n",
    "\n",
    "def g2(x):\n",
    "    return P0(x) - 1000\n",
    "\n",
    "\n",
    "def g3(x):\n",
    "    return T(x) - 50\n",
    "\n",
    "\n",
    "def g4(x):\n",
    "    return 0.001 - h(x)\n",
    "\n",
    "\n",
    "def g5(x):\n",
    "    return x[1] - x[2]\n",
    "\n",
    "\n",
    "def g6(x):\n",
    "    return ((0.0307 * x[0])/(772.8 * math.pi * P0(x) * h(x) * x[2])) - 0.001\n",
    "\n",
    "\n",
    "def g7(x):\n",
    "    return (W(x)/(math.pi * ((x[2]**2) - (x[1]**2)))) - 5000"
   ]
  },
  {
   "cell_type": "code",
   "execution_count": 63,
   "id": "a6f00e59",
   "metadata": {},
   "outputs": [],
   "source": [
    "#Objective Function\n",
    "\n",
    "def f(x):\n",
    "    return (P0(x)*x[0]/0.7) + E(x)"
   ]
  },
  {
   "cell_type": "code",
   "execution_count": 64,
   "id": "a53f61a0",
   "metadata": {},
   "outputs": [
    {
     "data": {
      "text/plain": [
       "-1784.0773507231927"
      ]
     },
     "execution_count": 64,
     "metadata": {},
     "output_type": "execute_result"
    }
   ],
   "source": [
    "##Validation code\n",
    "\n",
    "x=np.array([4.19,11.57,6.69,10.65])\n",
    "\n",
    "f(x)\n"
   ]
  },
  {
   "cell_type": "code",
   "execution_count": 90,
   "id": "a789dcd6",
   "metadata": {},
   "outputs": [],
   "source": [
    "def phi_death(x, inf=9999999): #f, g1, g2, g3, g4, g5, g6, g7, \n",
    "    if g1(x) <= 0 and g2(x) <= 0 and g3(x) <= 0 and g4(x) <= 0 and g5(x) <= 0 and g6(x) <= 0 and g7(x) <= 0:\n",
    "        return f(x)\n",
    "    else:\n",
    "        return inf"
   ]
  },
  {
   "cell_type": "code",
   "execution_count": 200,
   "id": "3938b089",
   "metadata": {},
   "outputs": [],
   "source": [
    "def x_normal_dist(max_iter, lower_bound, upper_bound):\n",
    "    \n",
    "        points_to_evaluate = np.random.uniform(low=lower_bound,\n",
    "                                         high=upper_bound,\n",
    "                                         size=(max_iter, 4))\n",
    "        return points_to_evaluate"
   ]
  },
  {
   "cell_type": "code",
   "execution_count": 187,
   "id": "e861871d",
   "metadata": {},
   "outputs": [],
   "source": [
    "# x_normal_dist(10000, 1, 16)"
   ]
  },
  {
   "cell_type": "code",
   "execution_count": 207,
   "id": "53d2cfe2",
   "metadata": {},
   "outputs": [],
   "source": [
    "def random_search(function, points_to_evaluate): \n",
    "#     np.random.seed(1)\n",
    "    results = np.array([function(point) \n",
    "               for point in points_to_evaluate])\n",
    "    best_ind = np.argmin(results)\n",
    "    return points_to_evaluate[best_ind], results[best_ind]"
   ]
  },
  {
   "cell_type": "code",
   "execution_count": 240,
   "id": "4ba5e2e9",
   "metadata": {},
   "outputs": [
    {
     "name": "stdout",
     "output_type": "stream",
     "text": [
      "[40698.73365520929 49361.06363389397 41140.24884365877 30420.575388189158\n",
      " 44653.39358894197 49987.19880613489 46083.50985456787 48800.29019554117\n",
      " 55958.59701639272 67058.94394577274 46672.457493712216 42642.640127157225\n",
      " 54698.562475194456 31322.97025060459 52865.82143574923 44188.8146905543\n",
      " 62299.59755244946 38564.938264253695 48173.83390748539 59681.89762357954\n",
      " 56611.03981504998]\n"
     ]
    }
   ],
   "source": [
    "number_of_samples = 10000\n",
    "lower_bound = 1\n",
    "upper_bound = 16\n",
    "rs_results = []\n",
    "\n",
    "\n",
    "\n",
    "for i in range(21):\n",
    "    #Run after removing np.random.seed()\n",
    "    x = x_normal_dist(number_of_samples, lower_bound, upper_bound)\n",
    "    rs_results.append(random_search(phi_death, x))\n",
    "    \n",
    "rs_results = np.array(rs_results, dtype=object)\n",
    "# print(np.matrix(rs_results[:,1])) \n",
    "print(rs_results[:,1]) \n"
   ]
  },
  {
   "cell_type": "code",
   "execution_count": 218,
   "id": "e5596f3f",
   "metadata": {},
   "outputs": [],
   "source": [
    "# fx = []\n",
    "# c_fx = []\n",
    "\n",
    "# # print(len(x))\n",
    "\n",
    "# for i in range(len(x)):\n",
    "#     fx.append(f(x[i]))\n",
    "# # fx = f(x)\n",
    "# # c_fx = phi_death(x)\n",
    "\n",
    "# plt.figure()\n",
    "# plt.plot(x[:,1], fx, label=\"True Function\")\n",
    "# cut_off = 0\n",
    "# plt.axhline(cut_off, color=\"black\", ls=\"dotted\")\n",
    "# plt.legend(loc='upper center', bbox_to_anchor=(0.5, 1.25),\n",
    "#           ncol=2, fancybox=True, shadow=True)\n",
    "# # plt.plot(x, yg, label=\"Constraint Function\")"
   ]
  },
  {
   "cell_type": "code",
   "execution_count": 117,
   "id": "72410b00",
   "metadata": {},
   "outputs": [],
   "source": [
    "# #RS\n",
    "# random.seed(420)\n",
    "\n",
    "# def get_x():\n",
    "#     x=[]\n",
    "#     for i in range(5):\n",
    "#         x.append(float(random.randrange(100, 1601))/100)  # range [1, 16]\n",
    "#     return x"
   ]
  },
  {
   "cell_type": "markdown",
   "id": "ae65311d",
   "metadata": {},
   "source": [
    "## SA"
   ]
  },
  {
   "cell_type": "code",
   "execution_count": null,
   "id": "c2ccbba8",
   "metadata": {},
   "outputs": [],
   "source": []
  }
 ],
 "metadata": {
  "kernelspec": {
   "display_name": "Python 3 (ipykernel)",
   "language": "python",
   "name": "python3"
  },
  "language_info": {
   "codemirror_mode": {
    "name": "ipython",
    "version": 3
   },
   "file_extension": ".py",
   "mimetype": "text/x-python",
   "name": "python",
   "nbconvert_exporter": "python",
   "pygments_lexer": "ipython3",
   "version": "3.10.9"
  }
 },
 "nbformat": 4,
 "nbformat_minor": 5
}
