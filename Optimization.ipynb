{
 "cells": [
  {
   "cell_type": "markdown",
   "metadata": {
    "id": "KggML4XKYdpl"
   },
   "source": [
    "**Basil George** -\n",
    "**2339366**"
   ]
  },
  {
   "cell_type": "markdown",
   "metadata": {
    "id": "rN2o5kQeY5w-"
   },
   "source": [
    "## Task 1"
   ]
  },
  {
   "cell_type": "code",
   "execution_count": 1,
   "metadata": {
    "colab": {
     "base_uri": "https://localhost:8080/"
    },
    "id": "Xpex96YofHdY",
    "outputId": "52762f52-e50c-43d5-8d17-3c25f8df3903"
   },
   "outputs": [
    {
     "data": {
      "text/plain": [
       "<contextlib.ExitStack at 0x1f926c20730>"
      ]
     },
     "execution_count": 1,
     "metadata": {},
     "output_type": "execute_result"
    }
   ],
   "source": [
    "#import statements\n",
    "import numpy as np\n",
    "import math\n",
    "import matplotlib.pyplot as plt\n",
    "from scipy.stats import norm, truncnorm\n",
    "\n",
    "plt.ion()"
   ]
  },
  {
   "cell_type": "code",
   "execution_count": 2,
   "metadata": {
    "id": "3tgK7B0cfNpZ"
   },
   "outputs": [],
   "source": [
    "#Auxiliary functions\n",
    "\n",
    "#(17)\n",
    "def P(x):\n",
    "    return (math.log10(math.log10(8.122 * x[3] + 0.8)) - 10.04) / (-3.55)\n",
    "\n",
    "#(16)\n",
    "def T(x):\n",
    "    return 2 * (10**P(x) - 560)\n",
    "\n",
    "#(15)\n",
    "def E(x):\n",
    "    return 143.308 * T(x) * x[0]\n",
    "\n",
    "#(18)\n",
    "def h(x):\n",
    "    return ((1500 * math.pi / 60)**2) * (2 * (10**-6) * math.pi * x[3] / E(x)) * (((x[2]**4) / 4) - ((x[1]**4) / 4))\n",
    "\n",
    "#(14)\n",
    "def P0(x):\n",
    "    return (6 * (10**-6) * x[3] * x[0] * math.log(x[2] / x[1])) / (math.pi * h(x)**3)\n",
    "\n",
    "#(13)\n",
    "def W(x):\n",
    "    return (math.pi * P0(x) / 2) * ((x[2]**2 - x[1]**2) / math.log(x[2] / x[1]))"
   ]
  },
  {
   "cell_type": "code",
   "execution_count": 3,
   "metadata": {
    "id": "nXREpKxebUWu"
   },
   "outputs": [],
   "source": [
    "#Counters for the functions\n",
    "\n",
    "c_g1 = c_g2 = c_g3 = c_g4 = c_g5 = c_g6 = c_g7 = c_f = 0"
   ]
  },
  {
   "cell_type": "code",
   "execution_count": 4,
   "metadata": {
    "id": "5KgfRVSPfSFh"
   },
   "outputs": [],
   "source": [
    "#Constraint Functions\n",
    "\n",
    "#(2)\n",
    "def g1(x):\n",
    "    global c_g1\n",
    "    c_g1 += 1\n",
    "    return 101000 - W(x)\n",
    "\n",
    "#(3)\n",
    "def g2(x):\n",
    "    global c_g2\n",
    "    c_g2 += 1\n",
    "    return P0(x) - 1000\n",
    "\n",
    "#(4)\n",
    "def g3(x):\n",
    "    global c_g3\n",
    "    c_g3 += 1\n",
    "    return T(x) - 50\n",
    "\n",
    "#(5)\n",
    "def g4(x):\n",
    "    global c_g4\n",
    "    c_g4 += 1\n",
    "    return 0.001 - h(x)\n",
    "\n",
    "#(6)\n",
    "def g5(x):\n",
    "    global c_g5\n",
    "    c_g5 += 1\n",
    "    return x[1] - x[2]\n",
    "\n",
    "#(7)\n",
    "def g6(x):\n",
    "    global c_g6\n",
    "    c_g6 += 1\n",
    "    return ((0.0307 * x[0])/(772.8 * math.pi * P0(x) * h(x) * x[2])) - 0.001\n",
    "\n",
    "#(8)\n",
    "def g7(x):\n",
    "    global c_g7\n",
    "    c_g7 += 1\n",
    "    return (W(x)/(math.pi * ((x[2]**2) - (x[1]**2)))) - 5000"
   ]
  },
  {
   "cell_type": "code",
   "execution_count": 5,
   "metadata": {
    "id": "Cc1cy0f7fZcX"
   },
   "outputs": [],
   "source": [
    "#Objective Function\n",
    "\n",
    "#(1)\n",
    "def f(x):\n",
    "    global c_f\n",
    "    c_f += 1\n",
    "    return (P0(x)*x[0]/0.7) + E(x)"
   ]
  },
  {
   "cell_type": "markdown",
   "metadata": {
    "id": "RlINNaF5lwrw"
   },
   "source": [
    "## Validation code"
   ]
  },
  {
   "cell_type": "code",
   "execution_count": 109,
   "metadata": {
    "colab": {
     "base_uri": "https://localhost:8080/"
    },
    "id": "EByea3LnfcFg",
    "outputId": "ddd79de4-208c-45ff-fc90-6d7682a6e016"
   },
   "outputs": [
    {
     "name": "stdout",
     "output_type": "stream",
     "text": [
      "Objective Function output, f(x) =  -1784.0773507231927\n",
      "Constraint Function output, g1(x) =  101000.01528759542\n",
      "Constraint Function output, g2(x) =  -1000.0000598304209\n",
      "Constraint Function output, g3(x) =  -52.97118117373543\n",
      "Constraint Function output, g4(x) =  -0.9196377239881502\n",
      "Constraint Function output, g5(x) =  4.88\n",
      "Constraint Function output, g6(x) =  -0.14477999681964235\n",
      "Constraint Function output, g7(x) =  -4999.999945390436\n"
     ]
    }
   ],
   "source": [
    "##Validation code\n",
    "\n",
    "x=np.array([4.19,11.57,6.69,10.65])\n",
    "\n",
    "print(\"Objective Function output, f(x) = \", f(x))\n",
    "print(\"Constraint Function output, g1(x) = \",g1(x))\n",
    "print(\"Constraint Function output, g2(x) = \",g2(x))\n",
    "print(\"Constraint Function output, g3(x) = \",g3(x))\n",
    "print(\"Constraint Function output, g4(x) = \",g4(x))\n",
    "print(\"Constraint Function output, g5(x) = \",g5(x))\n",
    "print(\"Constraint Function output, g6(x) = \",g6(x))\n",
    "print(\"Constraint Function output, g7(x) = \",g7(x))"
   ]
  },
  {
   "cell_type": "markdown",
   "metadata": {
    "id": "vnEVjvPek4MO"
   },
   "source": [
    "## Task 2   -   Random Search"
   ]
  },
  {
   "cell_type": "code",
   "execution_count": 6,
   "metadata": {
    "id": "uKK-oNrdfee4"
   },
   "outputs": [],
   "source": [
    "#Death penalty function\n",
    "\n",
    "def phi_death(x, inf=99999):\n",
    "    if g1(x) <= 0 and g2(x) <= 0 and g3(x) <= 0 and g4(x) <= 0 and g5(x) <= 0 and g6(x) <= 0 and g7(x) <= 0:\n",
    "        return f(x)\n",
    "    else:\n",
    "        return inf"
   ]
  },
  {
   "cell_type": "code",
   "execution_count": 7,
   "metadata": {
    "id": "WCjqfmG3fk4x"
   },
   "outputs": [],
   "source": [
    "#Generating points to evaluate within the uniform distribution [lower_bound, upper_bound), here [1,16). Returns array of shape (10000, 4).\n",
    "\n",
    "def get_x(max_iter, lower_bound, upper_bound):\n",
    "        np.random.seed(22)\n",
    "        points_to_evaluate = np.random.uniform(low=lower_bound,\n",
    "                                         high=upper_bound,\n",
    "                                         size=(max_iter, 4))\n",
    "        return points_to_evaluate"
   ]
  },
  {
   "cell_type": "code",
   "execution_count": 8,
   "metadata": {
    "id": "0G1UWyMqfo2j"
   },
   "outputs": [],
   "source": [
    "#Generates results for the generated array and returns the lowerest values.\n",
    "\n",
    "def random_search(function, max_iter, lower_bound, upper_bound):\n",
    "    points_to_evaluate = get_x(max_iter, lower_bound, upper_bound)\n",
    "    results = np.array([function(point) for point in points_to_evaluate])\n",
    "    best_ind = np.argmin(results)\n",
    "    return points_to_evaluate[best_ind], results[best_ind]"
   ]
  },
  {
   "cell_type": "code",
   "execution_count": 9,
   "metadata": {
    "colab": {
     "base_uri": "https://localhost:8080/"
    },
    "id": "0h8kEBscfsvD",
    "outputId": "e47980fd-15c7-4153-f207-5554e9a128c8"
   },
   "outputs": [
    {
     "name": "stdout",
     "output_type": "stream",
     "text": [
      "The minimized decision vectors: \n",
      " x1 =  8.704624673792722 \n",
      " x2 =  6.111162788767859 \n",
      " x3 =  6.782024210821531 \n",
      " x4 =  8.0220902182134\n",
      "The minimum power consumption found:  32347.971006899174\n"
     ]
    }
   ],
   "source": [
    "\n",
    "number_of_samples = 10000\n",
    "lower_bound = 1\n",
    "upper_bound = 16\n",
    "rs_results = []\n",
    "\n",
    "\n",
    "rs_results.append(random_search(phi_death, number_of_samples, lower_bound, upper_bound))\n",
    "\n",
    "rs_results = np.array(rs_results, dtype=object)\n",
    "print(\"The minimized decision vectors: \\n x1 = \", rs_results[0,0][0], \"\\n x2 = \", rs_results[0,0][1], \"\\n x3 = \", rs_results[0,0][2], \"\\n x4 = \", rs_results[0,0][3])\n",
    "print(\"The minimum power consumption found: \", rs_results[0,1])\n"
   ]
  },
  {
   "cell_type": "code",
   "execution_count": 10,
   "metadata": {
    "colab": {
     "base_uri": "https://localhost:8080/"
    },
    "id": "MpeagkJ8Hdc2",
    "outputId": "655ad3e2-a484-4ada-859f-0b09300539a4"
   },
   "outputs": [
    {
     "name": "stdout",
     "output_type": "stream",
     "text": [
      "Counters:  10000 ,  2121 ,  228 ,  39 ,  15 ,  15 ,  15 ,  8\n"
     ]
    }
   ],
   "source": [
    "print(\"Counters after RS: \", c_g1, \", \", c_g2, \", \", c_g3, \", \", c_g4, \", \", c_g5, \", \", c_g6, \", \", c_g7, \", \", c_f)"
   ]
  },
  {
   "cell_type": "markdown",
   "metadata": {
    "id": "A99AQ-PNkxAK"
   },
   "source": [
    "## Task 3   -   Simulated Annealing"
   ]
  },
  {
   "cell_type": "code",
   "execution_count": 11,
   "metadata": {
    "id": "rcz3IqJYk00K"
   },
   "outputs": [],
   "source": [
    "#Static Penalty\n",
    "r = 20\n",
    "beta = 1\n",
    "def s(x):\n",
    "    return r * np.max([0, g1(x), g2(x), g3(x), g4(x), g5(x), g6(x), g7(x)])**beta"
   ]
  },
  {
   "cell_type": "code",
   "execution_count": 12,
   "metadata": {
    "id": "GWzsnFdbgoYh"
   },
   "outputs": [],
   "source": [
    "def phi_static(x):\n",
    "    return f(x) + s(x)"
   ]
  },
  {
   "cell_type": "code",
   "execution_count": 13,
   "metadata": {
    "id": "1bdL6tGlgwQu"
   },
   "outputs": [],
   "source": [
    "# sampling from a Truncated Normal distribution\n",
    "def tnorm_rvs(mean_vect, sigma_vect, lower, upper, size=1):\n",
    "    a, b = (lower - mean_vect)/std_dev_vect, (upper - mean_vect)/std_dev_vect\n",
    "    samples = np.zeros(shape=(size, len(mean_vect)))\n",
    "    for i in range(len(mean_vect)):\n",
    "        samples[:,i] = truncnorm.rvs(a[i], b[i], loc=mean_vect[i], scale=sigma_vect[i], size=size)\n",
    "    return samples"
   ]
  },
  {
   "cell_type": "code",
   "execution_count": 14,
   "metadata": {
    "id": "SgCVDZlZg6Ju"
   },
   "outputs": [],
   "source": [
    "# initial values\n",
    "mean_vect = np.array([7.5, 7.5, 7.5, 7.5])\n",
    "std_dev_vect = np.array([5, 5, 5, 5])\n",
    "lower = np.array([1, 1, 1, 1])\n",
    "upper = np.array([16, 16, 16, 16])\n",
    "\n",
    "X = tnorm_rvs(mean_vect, std_dev_vect, lower, upper)\n",
    "X = X.flatten()"
   ]
  },
  {
   "cell_type": "code",
   "execution_count": 15,
   "metadata": {
    "id": "DLLeWWDKhCt7"
   },
   "outputs": [],
   "source": [
    "'''\n",
    "Generates values in truncated normal distribution around the current points and evaluates the objective function.\n",
    "If result is better than the existing best result then update the values. (Exploitative move)\n",
    "Else accept it as the current solution if the probability function allows it. (Explorative move)\n",
    "Here we are using the negative exponent e^(-x) as the probability function\n",
    "'''\n",
    "\n",
    "def simulated_annealing(function, initial_solution, num_iterations , initial_temperature = 10000000):\n",
    "    x_c = initial_solution\n",
    "    y_c = function(x_c)\n",
    "\n",
    "    x_best = x_c\n",
    "    y_best = y_c\n",
    "    tk = initial_temperature\n",
    "    np.random.seed(1)\n",
    "\n",
    "    for i in range(1, num_iterations):\n",
    "\n",
    "        # Generate a random solution in the Normal distribution\n",
    "        x_i = tnorm_rvs(x_c, std_dev_vect, lower, upper)\n",
    "        x_i = x_i.flatten()\n",
    "\n",
    "        # Evaluate the objective function\n",
    "        y_i = function(x_i)\n",
    "        delta_y = y_i - y_c\n",
    "\n",
    "        # Accept the solution if it's better or if the probability functoin allows it\n",
    "        if delta_y < 0 or np.random.rand() < np.exp(-delta_y / tk):\n",
    "            x_c = x_i\n",
    "            y_c = y_i\n",
    "\n",
    "        # Update the best solution if needed\n",
    "        if y_c < y_best:\n",
    "            x_best = x_c\n",
    "            y_best = y_c\n",
    "\n",
    "        # Reduce the temperature to control the probability function\n",
    "        tk = initial_temperature / i\n",
    "\n",
    "    return x_best, y_best"
   ]
  },
  {
   "cell_type": "code",
   "execution_count": 16,
   "metadata": {
    "colab": {
     "base_uri": "https://localhost:8080/"
    },
    "id": "9J1wSht7j475",
    "outputId": "7ad38516-8501-4b7a-d674-b76bb03ba59c"
   },
   "outputs": [
    {
     "name": "stdout",
     "output_type": "stream",
     "text": [
      "The minimized decision vectors: \n",
      " x1 =  4.309013278672585 \n",
      " x2 =  7.16895661145008 \n",
      " x3 =  7.101691295249543 \n",
      " x4 =  8.540680171974419\n",
      "\n",
      "The minimum power consumption found:  11877.18402065046\n"
     ]
    }
   ],
   "source": [
    "sa_results = []\n",
    "\n",
    "sa_results.append(simulated_annealing(phi_static, X, 10000))\n",
    "\n",
    "sa_results = np.array(sa_results, dtype=object)\n",
    "print(\"The minimized decision vectors: \\n x1 = \", sa_results[0,0][0], \"\\n x2 = \", sa_results[0,0][1], \"\\n x3 = \", sa_results[0,0][2], \"\\n x4 = \", sa_results[0,0][3])\n",
    "print(\"\\nThe minimum power consumption found: \", sa_results[0,1])\n"
   ]
  },
  {
   "cell_type": "code",
   "execution_count": 17,
   "metadata": {
    "colab": {
     "base_uri": "https://localhost:8080/"
    },
    "id": "vo4VCmO8KwOB",
    "outputId": "f753ceae-0494-4768-ba59-c346639f104e"
   },
   "outputs": [
    {
     "name": "stdout",
     "output_type": "stream",
     "text": [
      "Counters after RS and SA:  20000 ,  12121 ,  10228 ,  10039 ,  10015 ,  10015 ,  10015 ,  10008\n"
     ]
    }
   ],
   "source": [
    "print(\"Counters after RS and SA: \", c_g1, \", \", c_g2, \", \", c_g3, \", \", c_g4, \", \", c_g5, \", \", c_g6, \", \", c_g7, \", \", c_f)"
   ]
  },
  {
   "cell_type": "markdown",
   "metadata": {
    "id": "eDm9FofByMvW"
   },
   "source": [
    "## Task 4    -    Comparing the Algorithms"
   ]
  },
  {
   "cell_type": "code",
   "execution_count": 181,
   "metadata": {
    "id": "Wh_XXYocwh0c"
   },
   "outputs": [],
   "source": [
    "## Running Random Search 21 times\n",
    "rs_21 = []\n",
    "\n",
    "for i in range(21):\n",
    "    #Run after removing np.random.seed()\n",
    "    x = get_x(number_of_samples, lower_bound, upper_bound)\n",
    "    rs_21.append(random_search(phi_death, number_of_samples, lower_bound, upper_bound))\n",
    "\n",
    "rs_21 = np.array(rs_21, dtype=object)\n"
   ]
  },
  {
   "cell_type": "code",
   "execution_count": 183,
   "metadata": {
    "id": "i1vcasVvzCSn"
   },
   "outputs": [],
   "source": [
    "## Running Simulated Annealing 21 times\n",
    "sa_21 = []\n",
    "\n",
    "for i in range(21):\n",
    "    #Run after removing np.random.seed()\n",
    "    sa_21.append(simulated_annealing(phi_static, X, 10000))\n",
    "\n",
    "sa_21 = np.array(sa_21, dtype=object)"
   ]
  },
  {
   "cell_type": "code",
   "execution_count": 185,
   "metadata": {
    "colab": {
     "base_uri": "https://localhost:8080/",
     "height": 448
    },
    "id": "Yv8N0eDb0dZa",
    "outputId": "70b4650a-b3a4-4ee7-ad82-71ac600f9f8f"
   },
   "outputs": [
    {
     "data": {
      "text/plain": [
       "Text(0, 0.5, 'Best Objective Value')"
      ]
     },
     "execution_count": 185,
     "metadata": {},
     "output_type": "execute_result"
    },
    {
     "data": {
      "image/png": "[encoded data removed]",
      "text/plain": [
       "<Figure size 640x480 with 1 Axes>"
      ]
     },
     "metadata": {},
     "output_type": "display_data"
    }
   ],
   "source": [
    "plt.boxplot([rs_21[:,1], sa_21[:,1]])\n",
    "plt.xticks([1,2], ['Random Search','Simulated Annealing'])\n",
    "plt.ylabel(\"Best Objective Value\")"
   ]
  },
  {
   "cell_type": "code",
   "execution_count": 184,
   "metadata": {
    "colab": {
     "base_uri": "https://localhost:8080/"
    },
    "id": "O-vbvU-w27sB",
    "outputId": "46cc2984-7339-4abe-ebcc-5228a33a9fea"
   },
   "outputs": [
    {
     "name": "stdout",
     "output_type": "stream",
     "text": [
      "Lowest Objective value by Random search :  30143.64049589973\n",
      "Lowest Objective value by Simulated Annealing :  4279.885996771713\n"
     ]
    }
   ],
   "source": [
    "print(\"Lowest Objective value by Random search : \",np.min(rs_21[:,1]))\n",
    "print(\"Lowest Objective value by Simulated Annealing : \",np.min(sa_21[:,1]))"
   ]
  },
  {
   "cell_type": "code",
   "execution_count": 196,
   "metadata": {
    "colab": {
     "base_uri": "https://localhost:8080/"
    },
    "id": "GjQ-jPbZTkfC",
    "outputId": "96d0d6e8-2479-4fcc-f83d-369a9b390f99"
   },
   "outputs": [
    {
     "name": "stdout",
     "output_type": "stream",
     "text": [
      "Mann-Whitney U statistic: 441.0\n",
      "P-value: 1.562699999200436e-08\n"
     ]
    }
   ],
   "source": [
    "from scipy.stats import mannwhitneyu\n",
    "\n",
    "\n",
    "v1 = []\n",
    "for i in rs_21[:,1]:\n",
    "    v1.append(int(i))\n",
    "\n",
    "v2 = []\n",
    "for i in sa_21[:,1]:\n",
    "    v2.append(int(i))\n",
    "\n",
    "statistic, p_value = mannwhitneyu(v1, v2, alternative=\"greater\")\n",
    "\n",
    "print(\"Mann-Whitney U statistic:\", statistic)\n",
    "print(\"P-value:\", p_value)"
   ]
  },
  {
   "cell_type": "markdown",
   "metadata": {
    "id": "WB9T8bZnczT1"
   },
   "source": [
    "The null hypothesis states that the distribution are equivalent. With a very low p-value, for an alpha of 0.05 we can reject the null hypothesis. The low p-value suggests that v1 is considerably greater than v2. Since we are trying to minimize, this is not the desired outcome. Here, v1 was generated using Random Search and v2 was generated using Simulated Annealing.\n",
    "\n",
    "Hence we can conclude that Simulated Annealing is the better algorithm."
   ]
  },
  {
   "cell_type": "code",
   "execution_count": null,
   "metadata": {
    "id": "m9o9MMV5esOJ"
   },
   "outputs": [],
   "source": []
  }
 ],
 "metadata": {
  "colab": {
   "provenance": []
  },
  "kernelspec": {
   "display_name": "Python 3 (ipykernel)",
   "language": "python",
   "name": "python3"
  },
  "language_info": {
   "codemirror_mode": {
    "name": "ipython",
    "version": 3
   },
   "file_extension": ".py",
   "mimetype": "text/x-python",
   "name": "python",
   "nbconvert_exporter": "python",
   "pygments_lexer": "ipython3",
   "version": "3.10.9"
  }
 },
 "nbformat": 4,
 "nbformat_minor": 1
}
