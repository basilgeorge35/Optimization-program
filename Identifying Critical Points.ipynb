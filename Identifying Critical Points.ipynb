{
 "cells": [
  {
   "cell_type": "code",
   "execution_count": 10,
   "id": "ba495bd5",
   "metadata": {},
   "outputs": [],
   "source": [
    "import numpy as np\n",
    "from sympy import symbols, diff"
   ]
  },
  {
   "cell_type": "code",
   "execution_count": 17,
   "id": "fd5e25af",
   "metadata": {},
   "outputs": [
    {
     "name": "stdout",
     "output_type": "stream",
     "text": [
      "10*x - 5*y \n",
      " 3 - 5*x\n"
     ]
    }
   ],
   "source": [
    "x = symbols('x')  # Define the variable\n",
    "y = symbols('y')  \n",
    "\n",
    "f = 5*x**2 + 3*y - 5*x*y + 5  # Define the function\n",
    "f_x = diff(f, x)  # Calculate 1st the derivative of f with respect to x\n",
    "f_y = diff(f, y)  # Calculate 1st the derivative of f with respect to y\n",
    "print(f_x,\"\\n\",f_y)  # Display the derivative"
   ]
  },
  {
   "cell_type": "code",
   "execution_count": null,
   "id": "abd53695",
   "metadata": {},
   "outputs": [],
   "source": [
    "# Solving these we have the critical point : (0.6, 1.2)"
   ]
  },
  {
   "cell_type": "code",
   "execution_count": 18,
   "id": "2713d1c3",
   "metadata": {},
   "outputs": [
    {
     "name": "stdout",
     "output_type": "stream",
     "text": [
      "10 \n",
      " -5 \n",
      " -5 \n",
      " 0\n"
     ]
    }
   ],
   "source": [
    "#Calsulating 2nd derivative for Hessian Matrix\n",
    "f_xx = diff(f1_x, x)\n",
    "f_yx = diff(f1_y, x)\n",
    "f_xy = diff(f1_x, y)\n",
    "f_yy = diff(f1_y, y)\n",
    "print(f_xx,\"\\n\",f_yx,\"\\n\",f_xy,\"\\n\",f_yy)"
   ]
  },
  {
   "cell_type": "code",
   "execution_count": 8,
   "id": "4155556a",
   "metadata": {},
   "outputs": [],
   "source": [
    "hessian_mat = np.array([[10, -5],[-5, 0]])\n",
    "eig_vals, eig_vecs = np.linalg.eig(hessian_mat)"
   ]
  },
  {
   "cell_type": "code",
   "execution_count": 9,
   "id": "b6c9e196",
   "metadata": {},
   "outputs": [
    {
     "name": "stdout",
     "output_type": "stream",
     "text": [
      "Eigen Vals:  [12.07106781 -2.07106781]\n",
      "Eigen Vect:  [[ 0.92387953  0.38268343]\n",
      " [-0.38268343  0.92387953]]\n"
     ]
    }
   ],
   "source": [
    "print(\"Eigen Vals: \", eig_vals)\n",
    "print(\"Eigen Vect: \", eig_vecs)"
   ]
  },
  {
   "cell_type": "code",
   "execution_count": null,
   "id": "acdbd816",
   "metadata": {},
   "outputs": [],
   "source": [
    "# The eigenvalues are -ve and +ve, hence it's a sadlle point."
   ]
  }
 ],
 "metadata": {
  "kernelspec": {
   "display_name": "Python 3 (ipykernel)",
   "language": "python",
   "name": "python3"
  },
  "language_info": {
   "codemirror_mode": {
    "name": "ipython",
    "version": 3
   },
   "file_extension": ".py",
   "mimetype": "text/x-python",
   "name": "python",
   "nbconvert_exporter": "python",
   "pygments_lexer": "ipython3",
   "version": "3.10.9"
  }
 },
 "nbformat": 4,
 "nbformat_minor": 5
}
